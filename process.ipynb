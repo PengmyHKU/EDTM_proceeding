{
 "cells": [
  {
   "cell_type": "code",
   "execution_count": 1,
   "metadata": {},
   "outputs": [],
   "source": [
    "import pandas as pd"
   ]
  },
  {
   "cell_type": "code",
   "execution_count": 18,
   "metadata": {},
   "outputs": [],
   "source": [
    "data = pd.read_csv('./manuscripts_original.csv',sep=\";\",encoding='utf-8-sig')\n",
    "# data = pd.read_csv('./manuscripts_original.csv',sep=\";\",encoding='cp1252')   "
   ]
  },
  {
   "cell_type": "code",
   "execution_count": 19,
   "metadata": {},
   "outputs": [
    {
     "data": {
      "text/plain": [
       "Index(['transaction', 'title', 'abstract', 'authors', 'authorsEmails', 'track',\n",
       "       'status', 'keywords', 'fileName', 'reviewsAsked', 'reviewsPending',\n",
       "       'reviewsRejected', 'reviewsAgree', 'reviewsDone', 'paperScore',\n",
       "       'reviewersAverageExpertise', 'standardDeviation',\n",
       "       'acceptanceRecommendations', 'rejectionRecommendations', 'conflicts',\n",
       "       'contactTitle', 'contactFirstName', 'contactLastName', 'contactEmail',\n",
       "       'contactAfill', 'contactAffilCountry', 'registered', 'copyright',\n",
       "       'accepted', 'notified'],\n",
       "      dtype='object')"
      ]
     },
     "execution_count": 19,
     "metadata": {},
     "output_type": "execute_result"
    }
   ],
   "source": [
    "data.columns"
   ]
  },
  {
   "cell_type": "code",
   "execution_count": 20,
   "metadata": {},
   "outputs": [],
   "source": [
    "data_columns = ['transaction','title','abstract','authors','track']"
   ]
  },
  {
   "cell_type": "code",
   "execution_count": 21,
   "metadata": {},
   "outputs": [],
   "source": [
    "data = data[data_columns]"
   ]
  },
  {
   "cell_type": "code",
   "execution_count": 22,
   "metadata": {},
   "outputs": [
    {
     "data": {
      "text/plain": [
       "'06 Wide-Bandgap Power and RF Devices (invited)'"
      ]
     },
     "execution_count": 22,
     "metadata": {},
     "output_type": "execute_result"
    }
   ],
   "source": [
    "data.iloc[470]['track']"
   ]
  },
  {
   "cell_type": "code",
   "execution_count": 23,
   "metadata": {},
   "outputs": [],
   "source": [
    "data['invited'] = 0\n",
    "for i in range(data.__len__()):\n",
    "    data_temp = data.iloc[i]\n",
    "    if data_temp['track'][-8:-1]=='invited':\n",
    "        # data_temp.loc['invited'] = True\n",
    "        data.loc[i, 'invited'] = 1\n",
    "        data.loc[i,'track'] = data.loc[i,'track'][:-10]\n",
    "    if data_temp['track'][-1:]==' ':\n",
    "        data.loc[i,'track'] = data.loc[i,'track'][:-1]\n"
   ]
  },
  {
   "cell_type": "code",
   "execution_count": 24,
   "metadata": {},
   "outputs": [
    {
     "data": {
      "text/plain": [
       "array(['07 Modelling and Simulation',\n",
       "       '06 Wide-Bandgap Power and RF Devices',\n",
       "       '03 Advanced Semiconductor (Logic) Devices',\n",
       "       '08 Reliability and testing', '10 Sensor, MEMS, Bio-Electronics',\n",
       "       '04 Memory Technologies',\n",
       "       '02 Process, Tools, Yield, and Manufacturing',\n",
       "       '05 Photonics, Imaging and Display',\n",
       "       '11 Flexible and Wearable Electronics', '01 Materials',\n",
       "       '12 Nanotechnologies', '09 Packaging and Heterogenous Integration',\n",
       "       '13 Disruptive Technologies (Metaverse, Neuromorphic Computing, Quantum Computing)',\n",
       "       '14 Industrial Applications', '15 Short course/tutorial'],\n",
       "      dtype=object)"
      ]
     },
     "execution_count": 24,
     "metadata": {},
     "output_type": "execute_result"
    }
   ],
   "source": [
    "data['track'].unique()"
   ]
  },
  {
   "cell_type": "code",
   "execution_count": 25,
   "metadata": {},
   "outputs": [],
   "source": [
    "data_wrong = pd.read_csv('./list_wrong.csv')\n",
    "data_wrong = data_wrong.dropna(how='all')"
   ]
  },
  {
   "cell_type": "code",
   "execution_count": 26,
   "metadata": {},
   "outputs": [
    {
     "data": {
      "text/html": [
       "<div>\n",
       "<style scoped>\n",
       "    .dataframe tbody tr th:only-of-type {\n",
       "        vertical-align: middle;\n",
       "    }\n",
       "\n",
       "    .dataframe tbody tr th {\n",
       "        vertical-align: top;\n",
       "    }\n",
       "\n",
       "    .dataframe thead th {\n",
       "        text-align: right;\n",
       "    }\n",
       "</style>\n",
       "<table border=\"1\" class=\"dataframe\">\n",
       "  <thead>\n",
       "    <tr style=\"text-align: right;\">\n",
       "      <th></th>\n",
       "      <th>Unnamed: 0</th>\n",
       "      <th>transaction</th>\n",
       "      <th>title</th>\n",
       "      <th>abstract</th>\n",
       "      <th>authors</th>\n",
       "      <th>track</th>\n",
       "      <th>invited</th>\n",
       "    </tr>\n",
       "  </thead>\n",
       "  <tbody>\n",
       "    <tr>\n",
       "      <th>0</th>\n",
       "      <td>62.0</td>\n",
       "      <td>EDTM25-000093</td>\n",
       "      <td>Embracing Semiverse™ Solutions: Semiconductor ...</td>\n",
       "      <td>In this paper, we share several applications o...</td>\n",
       "      <td>QINGPENG WANG,Yujia Zhong,Lifei Sun,Benjamin V...</td>\n",
       "      <td>02 Process, Tools, Yield, and Manufacturing</td>\n",
       "      <td>1.0</td>\n",
       "    </tr>\n",
       "    <tr>\n",
       "      <th>1</th>\n",
       "      <td>125.0</td>\n",
       "      <td>EDTM25-000197</td>\n",
       "      <td>Self-heating and Process Induced Performance B...</td>\n",
       "      <td>Self-heating and bias temperature instability ...</td>\n",
       "      <td>Xin Wang,Hongyue Wang,Chen Wang,Jiayin He,Ju G...</td>\n",
       "      <td>06 Wide-Bandgap Power and RF Devices</td>\n",
       "      <td>0.0</td>\n",
       "    </tr>\n",
       "    <tr>\n",
       "      <th>2</th>\n",
       "      <td>279.0</td>\n",
       "      <td>EDTM25-000417</td>\n",
       "      <td>Integration of Polycrystal Diamond and GaN at ...</td>\n",
       "      <td>This study demonstrates the successful integra...</td>\n",
       "      <td>Jianbo Liang</td>\n",
       "      <td>09 Packaging and Heterogenous Integration</td>\n",
       "      <td>1.0</td>\n",
       "    </tr>\n",
       "    <tr>\n",
       "      <th>3</th>\n",
       "      <td>353.0</td>\n",
       "      <td>EDTM25-000549</td>\n",
       "      <td>Operation principles and applications of ultra...</td>\n",
       "      <td>Measurements on a nanoscale are at technologic...</td>\n",
       "      <td>Taras Plakhotnik</td>\n",
       "      <td>10 Sensor, MEMS, Bio-Electronics</td>\n",
       "      <td>1.0</td>\n",
       "    </tr>\n",
       "  </tbody>\n",
       "</table>\n",
       "</div>"
      ],
      "text/plain": [
       "   Unnamed: 0    transaction  \\\n",
       "0        62.0  EDTM25-000093   \n",
       "1       125.0  EDTM25-000197   \n",
       "2       279.0  EDTM25-000417   \n",
       "3       353.0  EDTM25-000549   \n",
       "\n",
       "                                               title  \\\n",
       "0  Embracing Semiverse™ Solutions: Semiconductor ...   \n",
       "1  Self-heating and Process Induced Performance B...   \n",
       "2  Integration of Polycrystal Diamond and GaN at ...   \n",
       "3  Operation principles and applications of ultra...   \n",
       "\n",
       "                                            abstract  \\\n",
       "0  In this paper, we share several applications o...   \n",
       "1  Self-heating and bias temperature instability ...   \n",
       "2  This study demonstrates the successful integra...   \n",
       "3  Measurements on a nanoscale are at technologic...   \n",
       "\n",
       "                                             authors  \\\n",
       "0  QINGPENG WANG,Yujia Zhong,Lifei Sun,Benjamin V...   \n",
       "1  Xin Wang,Hongyue Wang,Chen Wang,Jiayin He,Ju G...   \n",
       "2                                       Jianbo Liang   \n",
       "3                                   Taras Plakhotnik   \n",
       "\n",
       "                                         track  invited  \n",
       "0  02 Process, Tools, Yield, and Manufacturing      1.0  \n",
       "1         06 Wide-Bandgap Power and RF Devices      0.0  \n",
       "2    09 Packaging and Heterogenous Integration      1.0  \n",
       "3             10 Sensor, MEMS, Bio-Electronics      1.0  "
      ]
     },
     "execution_count": 26,
     "metadata": {},
     "output_type": "execute_result"
    }
   ],
   "source": [
    "data_wrong"
   ]
  },
  {
   "cell_type": "code",
   "execution_count": 27,
   "metadata": {},
   "outputs": [],
   "source": [
    "for i in range(data_wrong.__len__()):\n",
    "    wrong_id = data_wrong.loc[i,'transaction']\n",
    "    for column_id in ['title','abstract','authors']:\n",
    "        data.loc[data['transaction']==wrong_id,column_id] = data_wrong.loc[i,column_id]"
   ]
  },
  {
   "cell_type": "code",
   "execution_count": 28,
   "metadata": {},
   "outputs": [
    {
     "data": {
      "text/html": [
       "<div>\n",
       "<style scoped>\n",
       "    .dataframe tbody tr th:only-of-type {\n",
       "        vertical-align: middle;\n",
       "    }\n",
       "\n",
       "    .dataframe tbody tr th {\n",
       "        vertical-align: top;\n",
       "    }\n",
       "\n",
       "    .dataframe thead th {\n",
       "        text-align: right;\n",
       "    }\n",
       "</style>\n",
       "<table border=\"1\" class=\"dataframe\">\n",
       "  <thead>\n",
       "    <tr style=\"text-align: right;\">\n",
       "      <th></th>\n",
       "      <th>transaction</th>\n",
       "      <th>title</th>\n",
       "      <th>abstract</th>\n",
       "      <th>authors</th>\n",
       "      <th>track</th>\n",
       "      <th>invited</th>\n",
       "    </tr>\n",
       "  </thead>\n",
       "  <tbody>\n",
       "    <tr>\n",
       "      <th>62</th>\n",
       "      <td>EDTM25-000093</td>\n",
       "      <td>Embracing Semiverse™ Solutions: Semiconductor ...</td>\n",
       "      <td>In this paper, we share several applications o...</td>\n",
       "      <td>QINGPENG WANG,Yujia Zhong,Lifei Sun,Benjamin V...</td>\n",
       "      <td>02 Process, Tools, Yield, and Manufacturing</td>\n",
       "      <td>1</td>\n",
       "    </tr>\n",
       "  </tbody>\n",
       "</table>\n",
       "</div>"
      ],
      "text/plain": [
       "      transaction                                              title  \\\n",
       "62  EDTM25-000093  Embracing Semiverse™ Solutions: Semiconductor ...   \n",
       "\n",
       "                                             abstract  \\\n",
       "62  In this paper, we share several applications o...   \n",
       "\n",
       "                                              authors  \\\n",
       "62  QINGPENG WANG,Yujia Zhong,Lifei Sun,Benjamin V...   \n",
       "\n",
       "                                          track  invited  \n",
       "62  02 Process, Tools, Yield, and Manufacturing        1  "
      ]
     },
     "execution_count": 28,
     "metadata": {},
     "output_type": "execute_result"
    }
   ],
   "source": [
    "data[data['transaction']=='EDTM25-000093']"
   ]
  },
  {
   "cell_type": "code",
   "execution_count": 29,
   "metadata": {},
   "outputs": [],
   "source": [
    "data.to_csv('accepted_paper_list.csv',encoding=\"utf-8-sig\")\n"
   ]
  },
  {
   "cell_type": "code",
   "execution_count": null,
   "metadata": {},
   "outputs": [],
   "source": []
  }
 ],
 "metadata": {
  "kernelspec": {
   "display_name": "base",
   "language": "python",
   "name": "python3"
  },
  "language_info": {
   "codemirror_mode": {
    "name": "ipython",
    "version": 3
   },
   "file_extension": ".py",
   "mimetype": "text/x-python",
   "name": "python",
   "nbconvert_exporter": "python",
   "pygments_lexer": "ipython3",
   "version": "3.12.4"
  }
 },
 "nbformat": 4,
 "nbformat_minor": 2
}
