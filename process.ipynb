{
 "cells": [
  {
   "cell_type": "code",
   "execution_count": 1,
   "metadata": {},
   "outputs": [],
   "source": [
    "import pandas as pd"
   ]
  },
  {
   "cell_type": "code",
   "execution_count": 82,
   "metadata": {},
   "outputs": [],
   "source": [
    "data = pd.read_csv('./manuscripts_original.csv',sep=\";\",encoding='utf-8-sig')\n",
    "# data = pd.read_csv('./manuscripts_original.csv',sep=\";\",encoding='cp1252')   "
   ]
  },
  {
   "cell_type": "code",
   "execution_count": 83,
   "metadata": {},
   "outputs": [
    {
     "data": {
      "text/plain": [
       "Index(['transaction', 'title', 'abstract', 'authors', 'authorsEmails', 'track',\n",
       "       'status', 'keywords', 'fileName', 'reviewsAsked', 'reviewsPending',\n",
       "       'reviewsRejected', 'reviewsAgree', 'reviewsDone', 'paperScore',\n",
       "       'reviewersAverageExpertise', 'standardDeviation',\n",
       "       'acceptanceRecommendations', 'rejectionRecommendations', 'conflicts',\n",
       "       'contactTitle', 'contactFirstName', 'contactLastName', 'contactEmail',\n",
       "       'contactAfill', 'contactAffilCountry', 'registered', 'copyright',\n",
       "       'accepted', 'notified'],\n",
       "      dtype='object')"
      ]
     },
     "execution_count": 83,
     "metadata": {},
     "output_type": "execute_result"
    }
   ],
   "source": [
    "data.columns"
   ]
  },
  {
   "cell_type": "code",
   "execution_count": 84,
   "metadata": {},
   "outputs": [],
   "source": [
    "data_columns = ['transaction','title','abstract','authors','track']"
   ]
  },
  {
   "cell_type": "code",
   "execution_count": 85,
   "metadata": {},
   "outputs": [],
   "source": [
    "data = data[data_columns]"
   ]
  },
  {
   "cell_type": "code",
   "execution_count": 88,
   "metadata": {},
   "outputs": [
    {
     "data": {
      "text/plain": [
       "'06 Wide-Bandgap Power and RF Devices'"
      ]
     },
     "execution_count": 88,
     "metadata": {},
     "output_type": "execute_result"
    }
   ],
   "source": [
    "data.iloc[470]['track']"
   ]
  },
  {
   "cell_type": "code",
   "execution_count": 87,
   "metadata": {},
   "outputs": [],
   "source": [
    "data['invited'] = 0\n",
    "for i in range(data.__len__()):\n",
    "    data_temp = data.iloc[i]\n",
    "    if data_temp['track'][-8:-1]=='invited':\n",
    "        # data_temp.loc['invited'] = True\n",
    "        data.loc[i, 'invited'] = 1\n",
    "        data.loc[i,'track'] = data.loc[i,'track'][:-10]\n",
    "    if data_temp['track'][-1:]==' ':\n",
    "        data.loc[i,'track'] = data.loc[i,'track'][:-1]\n"
   ]
  },
  {
   "cell_type": "code",
   "execution_count": 89,
   "metadata": {},
   "outputs": [
    {
     "data": {
      "text/plain": [
       "array(['07 Modelling and Simulation',\n",
       "       '06 Wide-Bandgap Power and RF Devices',\n",
       "       '03 Advanced Semiconductor (Logic) Devices',\n",
       "       '08 Reliability and testing', '10 Sensor, MEMS, Bio-Electronics',\n",
       "       '04 Memory Technologies',\n",
       "       '02 Process, Tools, Yield, and Manufacturing',\n",
       "       '05 Photonics, Imaging and Display',\n",
       "       '11 Flexible and Wearable Electronics', '01 Materials',\n",
       "       '12 Nanotechnologies', '09 Packaging and Heterogenous Integration',\n",
       "       '13 Disruptive Technologies (Metaverse, Neuromorphic Computing, Quantum Computing)',\n",
       "       '14 Industrial Applications', '15 Short course/tutorial'],\n",
       "      dtype=object)"
      ]
     },
     "execution_count": 89,
     "metadata": {},
     "output_type": "execute_result"
    }
   ],
   "source": [
    "data['track'].unique()"
   ]
  },
  {
   "cell_type": "code",
   "execution_count": 90,
   "metadata": {},
   "outputs": [
    {
     "name": "stdout",
     "output_type": "stream",
     "text": [
      "['This study reports fabrication of high-performance IGTO field-effect transistors via atomic layer deposition, enabling precise cation ratio control. The IGTO thin-film with 7.2 at% Sn exhibited preferential (222) crystal growth. The resulting FET achieved exceptional performance, including a field-effect mobility of 88.3 ± 1.7 cm2/Vs, low subthreshold swing of 61.2 ± 1.1 mV/dec, and VTH of 0.15 ± 0.1 V. These results, attributed to preferential growth, were validated through detailed physical and chemical analyses.']\n"
     ]
    }
   ],
   "source": [
    "print(data[data['transaction']=='EDTM25-000010']['abstract'].values)"
   ]
  },
  {
   "cell_type": "code",
   "execution_count": 91,
   "metadata": {},
   "outputs": [],
   "source": [
    "data.to_csv('accepted_paper_list.csv',encoding=\"utf-8-sig\")\n"
   ]
  },
  {
   "cell_type": "code",
   "execution_count": null,
   "metadata": {},
   "outputs": [],
   "source": []
  }
 ],
 "metadata": {
  "kernelspec": {
   "display_name": "base",
   "language": "python",
   "name": "python3"
  },
  "language_info": {
   "codemirror_mode": {
    "name": "ipython",
    "version": 3
   },
   "file_extension": ".py",
   "mimetype": "text/x-python",
   "name": "python",
   "nbconvert_exporter": "python",
   "pygments_lexer": "ipython3",
   "version": "3.12.4"
  }
 },
 "nbformat": 4,
 "nbformat_minor": 2
}
